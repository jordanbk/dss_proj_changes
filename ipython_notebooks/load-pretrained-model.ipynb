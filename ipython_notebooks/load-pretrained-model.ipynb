{
  "metadata": {
    "kernelspec": {
      "name": "py-dku-venv-py37",
      "display_name": "Python (env py37)",
      "language": "python"
    },
    "creator": "admin",
    "createdOn": 1693513946297,
    "tags": [],
    "customFields": {},
    "hide_input": false,
    "language_info": {
      "name": "python",
      "version": "3.7.13",
      "mimetype": "text/x-python",
      "codemirror_mode": {
        "name": "ipython",
        "version": 3
      },
      "pygments_lexer": "ipython3",
      "nbconvert_exporter": "python",
      "file_extension": ".py"
    },
    "modifiedBy": "admin"
  },
  "nbformat": 4,
  "nbformat_minor": 1,
  "cells": [
    {
      "execution_count": 0,
      "cell_type": "code",
      "metadata": {},
      "source": [
        "from diffusers import DiffusionPipeline, StableDiffusionXLImg2ImgPipeline\nimport torch\nimport os\n\n# Define which pre-trained model to use\nmodel \u003d {\"name\": \"stabilityai--stable-diffusion-xl-base-1.0\",\n         \"revision\": \"bf714989e22c57ddc1c453bf74dab4521acb81d8\"}\n\n# Load pre-trained model\nhf_home_dir \u003d os.getenv(\"HF_HOME\")\nmodel_path \u003d os.path.join(hf_home_dir,\n                          f\"hub/models--{model[\u0027name\u0027]}/snapshots/{model[\u0027revision\u0027]}\")\n                          \n                          \npipe \u003d DiffusionPipeline.from_pretrained(\n    model_path\n)\npipe.to(\"cpu\") "
      ],
      "outputs": []
    },
    {
      "execution_count": 0,
      "cell_type": "code",
      "metadata": {},
      "source": [
        ""
      ],
      "outputs": []
    },
    {
      "execution_count": 0,
      "cell_type": "code",
      "metadata": {},
      "source": [
        "import dataiku\nimages_folder \u003d dataiku.Folder(\u0027zhoka3T4\u0027)\n\n### For visualizing pics use below commented code\nfrom PIL import Image\n#plt.figure(figsize\u003d(20,100))\n\n\nfiles \u003d images_folder.list_paths_in_partition()\nfor file in files:\n    for ts in images_folder.get_path_details(file)[\"children\"]:\n        with images_folder.get_download_stream(path\u003dts) as stream:\n            img \u003d Image.open(stream)\n            print(img)\n            plt.imshow(img)\n            plt.show()\n\n# for img in [item[\"fullPath\"] for item in images_folder.get_path_details()[\"children\"]]:\n#     with images_folder.get_download_stream(path\u003dimg) as stream:\n#         img \u003d Image.open(stream)\n#         plt.imshow(img)\n#         plt.show()"
      ],
      "outputs": []
    },
    {
      "execution_count": 0,
      "cell_type": "code",
      "metadata": {},
      "source": [
        "REPO \u003d dataiku.Folder(\"zhoka3T4\")\nlist_files \u003d REPO.list_paths_in_partition()\ndocument_path \u003d REPO.file_path([file_name for file_name in list_files][0])\ndocument_path"
      ],
      "outputs": []
    },
    {
      "execution_count": 0,
      "cell_type": "code",
      "metadata": {},
      "source": [
        ""
      ],
      "outputs": []
    }
  ]
}